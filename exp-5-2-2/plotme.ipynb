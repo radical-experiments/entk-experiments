{
 "cells": [
  {
   "cell_type": "code",
   "execution_count": 29,
   "metadata": {},
   "outputs": [],
   "source": [
    "import pandas as pd\n",
    "import matplotlib.pyplot as plt\n",
    "import os\n",
    "import glob\n",
    "from radical.entk import Profiler\n",
    "import radical.analytics as ra\n",
    "import radical.utils as ru\n",
    "import radical.pilot as rp"
   ]
  },
  {
   "cell_type": "code",
   "execution_count": 22,
   "metadata": {
    "collapsed": true
   },
   "outputs": [],
   "source": [
    "# Constants\n",
    "#tasks = [16,32,64,128,256,512,1024]\n",
    "tasks = [16]\n"
   ]
  },
  {
   "cell_type": "code",
   "execution_count": 23,
   "metadata": {},
   "outputs": [
    {
     "name": "stdout",
     "output_type": "stream",
     "text": [
      "['radical.entk.task.0000', 'radical.entk.task.0001', 'radical.entk.task.0002', 'radical.entk.task.0003', 'radical.entk.task.0004', 'radical.entk.task.0005', 'radical.entk.task.0006', 'radical.entk.task.0007', 'radical.entk.task.0008', 'radical.entk.task.0009', 'radical.entk.task.0010', 'radical.entk.task.0011', 'radical.entk.task.0012', 'radical.entk.task.0013', 'radical.entk.task.0014', 'radical.entk.task.0015']\n"
     ]
    }
   ],
   "source": [
    "# Generate task uids\n",
    "task_uids = []\n",
    "for t in range(tasks[0]):\n",
    "    task_uids.append('radical.entk.task.%04d'%t)\n",
    "\n",
    "print task_uids"
   ]
  },
  {
   "cell_type": "code",
   "execution_count": 24,
   "metadata": {
    "collapsed": true
   },
   "outputs": [],
   "source": [
    "p = Profiler(src = './app_sleep/tasks-{0}/'.format(16))"
   ]
  },
  {
   "cell_type": "code",
   "execution_count": 45,
   "metadata": {},
   "outputs": [],
   "source": [
    "dur = p.duration(task_uids, states=['SUBMITTING', 'EXECUTED'])"
   ]
  },
  {
   "cell_type": "code",
   "execution_count": 46,
   "metadata": {},
   "outputs": [
    {
     "name": "stdout",
     "output_type": "stream",
     "text": [
      "EnTK exec time:  7.38159990311\n"
     ]
    }
   ],
   "source": [
    "print 'EnTK exec time: ',dur"
   ]
  },
  {
   "cell_type": "code",
   "execution_count": 38,
   "metadata": {},
   "outputs": [],
   "source": [
    "json_files = glob.glob('./app_sleep/tasks-{0}/*.json'.format(16))\n",
    "json_file = json_files[0]\n",
    "json      = ru.read_json(json_file)\n",
    "sid       = os.path.basename(json_file)[:-5]\n",
    "\n",
    "\n",
    "session = ra.Session(sid, 'radical.pilot', src='./app_sleep/tasks-16/')"
   ]
  },
  {
   "cell_type": "code",
   "execution_count": 47,
   "metadata": {},
   "outputs": [
    {
     "name": "stdout",
     "output_type": "stream",
     "text": [
      "6.99300003052\n"
     ]
    }
   ],
   "source": [
    "units = session.filter(etype='unit', inplace=False)\n",
    "duration_exec = units.duration([rp.AGENT_EXECUTING, rp.AGENT_STAGING_OUTPUT_PENDING])\n",
    "\n",
    "before_exec = units.duration([rp.UMGR_SCHEDULING_PENDING, rp.AGENT_EXECUTING])\n",
    "after_exec = units.duration([rp.AGENT_STAGING_OUTPUT_PENDING, rp.DONE])\n",
    "\n",
    "total = units.duration([rp.UMGR_SCHEDULING_PENDING, rp.DONE])\n",
    "print total"
   ]
  },
  {
   "cell_type": "code",
   "execution_count": 40,
   "metadata": {},
   "outputs": [
    {
     "name": "stdout",
     "output_type": "stream",
     "text": [
      "3.35220003128 5.23059988022 0.546700000763\n",
      "9.12949991226\n"
     ]
    }
   ],
   "source": [
    "print duration_exec, before_exec, after_exec\n",
    "total_from_rp = duration_exec + before_exec + after_exec\n",
    "print total_from_rp"
   ]
  },
  {
   "cell_type": "code",
   "execution_count": null,
   "metadata": {
    "collapsed": true
   },
   "outputs": [],
   "source": []
  }
 ],
 "metadata": {
  "kernelspec": {
   "display_name": "Python 2",
   "language": "python",
   "name": "python2"
  },
  "language_info": {
   "codemirror_mode": {
    "name": "ipython",
    "version": 2
   },
   "file_extension": ".py",
   "mimetype": "text/x-python",
   "name": "python",
   "nbconvert_exporter": "python",
   "pygments_lexer": "ipython2",
   "version": "2.7.12"
  }
 },
 "nbformat": 4,
 "nbformat_minor": 2
}
