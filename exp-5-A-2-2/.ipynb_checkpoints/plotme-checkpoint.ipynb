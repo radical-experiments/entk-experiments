{
 "cells": [
  {
   "cell_type": "code",
   "execution_count": 25,
   "metadata": {},
   "outputs": [],
   "source": [
    "import pandas as pd\n",
    "import matplotlib.pyplot as plt\n",
    "import os\n",
    "import glob\n",
    "from radical.entk import Profiler\n",
    "import radical.analytics as ra\n",
    "import radical.utils as ru\n",
    "import radical.pilot as rp\n",
    "import numpy as np\n",
    "from math import sqrt\n",
    "\n",
    "%matplotlib inline"
   ]
  },
  {
   "cell_type": "code",
   "execution_count": 27,
   "metadata": {
    "collapsed": true
   },
   "outputs": [],
   "source": [
    "# Constants\n",
    "sleep_times = [1,10,100,1000]\n",
    "trials=2"
   ]
  },
  {
   "cell_type": "code",
   "execution_count": 28,
   "metadata": {
    "collapsed": true
   },
   "outputs": [],
   "source": [
    "# Generate task uids\n",
    "\n",
    "def get_task_uids(num_tasks):\n",
    "    \n",
    "    task_uids = []\n",
    "    for t in range(num_tasks):\n",
    "        task_uids.append('radical.entk.task.%04d'%t)\n",
    "\n",
    "    return task_uids"
   ]
  },
  {
   "cell_type": "code",
   "execution_count": 32,
   "metadata": {},
   "outputs": [
    {
     "name": "stdout",
     "output_type": "stream",
     "text": [
      "EnTK setup + teardown overhead:  3.53660011292\n",
      "EnTK overhead:  1.80969977379\n",
      "RP overhead:  3.64079999924\n",
      "Execution duration:  1\n",
      "---------------------------------------\n",
      "EnTK setup + teardown overhead:  4.95280003548\n",
      "EnTK overhead:  10.0983998775\n",
      "RP overhead:  4.08069992065\n",
      "Execution duration:  1\n",
      "---------------------------------------\n",
      "EnTK setup + teardown overhead:  6.40589976311\n",
      "EnTK overhead:  9.42840003967\n",
      "RP overhead:  3.44650006294\n",
      "Execution duration:  10\n",
      "---------------------------------------\n",
      "EnTK setup + teardown overhead:  4.10249972343\n",
      "EnTK overhead:  10.14599967\n",
      "RP overhead:  4.16480016708\n",
      "Execution duration:  10\n",
      "---------------------------------------\n",
      "EnTK setup + teardown overhead:  6.85980033875\n",
      "EnTK overhead:  9.29089999199\n",
      "RP overhead:  4.96529984474\n",
      "Execution duration:  100\n",
      "---------------------------------------\n",
      "EnTK setup + teardown overhead:  6.89199972153\n",
      "EnTK overhead:  9.20179986954\n",
      "RP overhead:  4.46760010719\n",
      "Execution duration:  100\n",
      "---------------------------------------\n",
      "EnTK setup + teardown overhead:  6.13750004768\n",
      "EnTK overhead:  10.8789000511\n",
      "RP overhead:  4.0640001297\n",
      "Execution duration:  1000\n",
      "---------------------------------------\n",
      "EnTK setup + teardown overhead:  23.8921999931\n",
      "EnTK overhead:  10.0896999836\n",
      "RP overhead:  4.953799963\n",
      "Execution duration:  1000\n",
      "---------------------------------------\n"
     ]
    }
   ],
   "source": [
    "df = pd.DataFrame(columns=['EnTK core overhead', 'EnTK overhead', 'RP overhead'])\n",
    "df_err = pd.DataFrame(columns=['EnTK core overhead', 'EnTK overhead', 'RP overhead'])\n",
    "\n",
    "for sleep in sleep_times:    \n",
    "    \n",
    "    entk_setup_teardown_list = list()\n",
    "    entk_task_overhead_list = list()\n",
    "    rp_overhead_list = list()\n",
    "    \n",
    "    for t in range(1,trials+1):\n",
    "\n",
    "        json_files = glob.glob('./app_sleep/sleep-{0}-trial-{1}/*.json'.format(sleep, t))\n",
    "        json_file = json_files[0]\n",
    "        json      = ru.read_json(json_file)\n",
    "        sid       = os.path.basename(json_file)[:-5]\n",
    "\n",
    "        session = ra.Session(sid, 'radical.pilot', src='./app_sleep/sleep-{0}-trial-{1}/'.format(sleep, t))\n",
    "        units = session.filter(etype='unit', inplace=False)\n",
    "    \n",
    "        p = Profiler(src = './app_sleep/sleep-{0}-trial-{1}/'.format(sleep, t))\n",
    "        \n",
    "        task_uids = get_task_uids(16)\n",
    "        \n",
    "        entk_dur = p.duration(task_uids, states=['SCHEDULING', 'DONE'])\n",
    "    \n",
    "        rp_dur = units.duration([rp.UMGR_SCHEDULING_PENDING, rp.DONE])\n",
    "        exec_dur = units.duration([rp.AGENT_EXECUTING, rp.AGENT_STAGING_OUTPUT_PENDING])\n",
    "    \n",
    "        # Time taken in appmanager to rreq function call\n",
    "        entk_core_1 = p.duration('radical.entk.appmanager.0000', events=['create amgr obj', 'init rreq submission'])\n",
    "        \n",
    "        # Time taken to tear down appmanager\n",
    "        entk_core_2 = p.duration('radical.entk.appmanager.0000', events=['start termination', 'termination done'])\n",
    "    \n",
    "        # Time taken to create resource manager obj\n",
    "        entk_core_3 = p.duration('radical.entk.resource_manager.0000', events = ['create rmgr obj', 'rmgr obj created'])\n",
    "    \n",
    "        # Time taken to create and submit resource reservation\n",
    "        entk_core_4 = p.duration('radical.entk.resource_manager.0000', events = ['creating rreq', 'rreq submitted'])\n",
    "    \n",
    "        # Time taken to deallocate resource reservation\n",
    "        entk_core_5 = p.duration('radical.entk.resource_manager.0000', events = ['canceling resource allocation', 'resource allocation cancelled'])\n",
    "    \n",
    "        # Queue\n",
    "        queue_time = p.duration('radical.entk.resource_manager.0000', events = ['rreq submitted', 'resource active'])\n",
    "    \n",
    "    \n",
    "        entk_setup_teardown_dur = entk_core_1 + entk_core_2 + entk_core_3 \n",
    "        entk_task_overhead = entk_dur - rp_dur\n",
    "        rp_overhead = rp_dur - exec_dur\n",
    "    \n",
    "        print 'EnTK setup + teardown overhead: ', entk_setup_teardown_dur\n",
    "        print 'EnTK overhead: ', entk_task_overhead\n",
    "        print 'RP overhead: ', rp_overhead\n",
    "        print 'Execution duration: ', sleep\n",
    "        print '---------------------------------------'\n",
    "        \n",
    "        entk_setup_teardown_list.append(entk_setup_teardown_dur)\n",
    "        entk_task_overhead_list.append(entk_task_overhead)\n",
    "        rp_overhead_list.append(rp_overhead)\n",
    "    \n",
    "    df.loc[sleep] = [np.mean(entk_setup_teardown_list), \n",
    "                     np.mean(entk_task_overhead_list), \n",
    "                     np.mean(rp_overhead_list)]\n",
    "    \n",
    "    df_err.loc[sleep] = [np.std(entk_setup_teardown_list)/sqrt(trials), \n",
    "                     np.std(entk_task_overhead_list)/sqrt(trials), \n",
    "                     np.std(rp_overhead_list)/sqrt(trials)]\n",
    "    "
   ]
  },
  {
   "cell_type": "code",
   "execution_count": 33,
   "metadata": {},
   "outputs": [
    {
     "data": {
      "image/png": "[encoded data removed]",
      "text/plain": [
       "<matplotlib.figure.Figure at 0x7fef6cf984d0>"
      ]
     },
     "metadata": {},
     "output_type": "display_data"
    }
   ],
   "source": [
    "ax = df.plot(kind='bar', \n",
    "             yerr=df_err,\n",
    "             title='Time taken by EnTK and RP to execute a workflow consisting of \\n 1 Pipeline, 1 Stage per Pipeline and 16 number of Tasks per Stage on XSEDE.SuperMIC (Task duration = X second(s), number of trials per data point = 1)')\n",
    "ax.set_xlabel('Sleep duration (seconds)')\n",
    "ax.set_ylabel('Time (seconds)')\n",
    "\n",
    "\n",
    "fig = plt.gcf()\n",
    "fig.set_size_inches(18.5, 10.5)\n",
    "fig.savefig('initial', dpi=100)"
   ]
  },
  {
   "cell_type": "code",
   "execution_count": null,
   "metadata": {
    "collapsed": true
   },
   "outputs": [],
   "source": []
  }
 ],
 "metadata": {
  "kernelspec": {
   "display_name": "Python 2",
   "language": "python",
   "name": "python2"
  },
  "language_info": {
   "codemirror_mode": {
    "name": "ipython",
    "version": 2
   },
   "file_extension": ".py",
   "mimetype": "text/x-python",
   "name": "python",
   "nbconvert_exporter": "python",
   "pygments_lexer": "ipython2",
   "version": "2.7.12"
  }
 },
 "nbformat": 4,
 "nbformat_minor": 2
}
