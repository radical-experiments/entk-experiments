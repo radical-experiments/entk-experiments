{
 "cells": [
  {
   "cell_type": "code",
   "execution_count": 1,
   "metadata": {},
   "outputs": [
    {
     "name": "stderr",
     "output_type": "stream",
     "text": [
      "/home/vivek/ves/ve_entk/lib/python2.7/site-packages/radical/utils/atfork/stdlib_fixer.py:63: UserWarning: logging module already imported before fixup.\n",
      "  warnings.warn('logging module already imported before fixup.')\n"
     ]
    }
   ],
   "source": [
    "import pandas as pd\n",
    "import matplotlib.pyplot as plt\n",
    "import os\n",
    "import glob\n",
    "from radical.entk import Profiler\n",
    "import radical.analytics as ra\n",
    "import radical.utils as ru\n",
    "import radical.pilot as rp\n",
    "\n",
    "%matplotlib inline"
   ]
  },
  {
   "cell_type": "code",
   "execution_count": 2,
   "metadata": {
    "collapsed": true
   },
   "outputs": [],
   "source": [
    "# Constants\n",
    "tasks_list = [16,32,64,128,256,512,1024]\n"
   ]
  },
  {
   "cell_type": "code",
   "execution_count": 3,
   "metadata": {
    "collapsed": true
   },
   "outputs": [],
   "source": [
    "# Generate task uids\n",
    "\n",
    "def get_task_uids(num_tasks):\n",
    "    \n",
    "    task_uids = []\n",
    "    for t in range(num_tasks):\n",
    "        task_uids.append('radical.entk.task.%04d'%t)\n",
    "\n",
    "    return task_uids"
   ]
  },
  {
   "cell_type": "code",
   "execution_count": 21,
   "metadata": {},
   "outputs": [
    {
     "name": "stdout",
     "output_type": "stream",
     "text": [
      "Tasks:  16\n",
      "EnTK duration:  8.80269980431\n",
      "EnTK core duration:  3.53660011292\n",
      "RP duration:  6.99300003052\n",
      "Execution duration:  3.35220003128\n",
      "---------------------------------------\n",
      "Tasks:  32\n",
      "EnTK duration:  12.2228000164\n",
      "EnTK core duration:  11.2231998444\n",
      "RP duration:  10.0209000111\n",
      "Execution duration:  6.02220010757\n",
      "---------------------------------------\n",
      "Tasks:  64\n",
      "EnTK duration:  17.8375999928\n",
      "EnTK core duration:  5.54279971123\n",
      "RP duration:  13.6448001862\n",
      "Execution duration:  9.5517001152\n",
      "---------------------------------------\n",
      "Tasks:  128\n",
      "EnTK duration:  22.4965000153\n",
      "EnTK core duration:  10.8384001255\n",
      "RP duration:  20.7053999901\n",
      "Execution duration:  15.9038999081\n",
      "---------------------------------------\n",
      "Tasks:  256\n",
      "EnTK duration:  37.0110001564\n",
      "EnTK core duration:  7.57170009613\n",
      "RP duration:  35.8048000336\n",
      "Execution duration:  30.1489999294\n",
      "---------------------------------------\n",
      "Tasks:  512\n",
      "EnTK duration:  68.6166000366\n",
      "EnTK core duration:  4.11690044403\n",
      "RP duration:  65.9463000298\n",
      "Execution duration:  61.9189999104\n",
      "---------------------------------------\n",
      "Tasks:  1024\n",
      "EnTK duration:  134.17689991\n",
      "EnTK core duration:  9.48529982567\n",
      "RP duration:  130.013799906\n",
      "Execution duration:  121.313800097\n",
      "---------------------------------------\n"
     ]
    }
   ],
   "source": [
    "df = pd.DataFrame(columns=['EnTK core overhead', 'EnTK overhead', 'RP overhead'])\n",
    "\n",
    "for tasks in tasks_list:\n",
    "\n",
    "    json_files = glob.glob('./app_sleep/tasks-{0}/*.json'.format(tasks))\n",
    "    json_file = json_files[0]\n",
    "    json      = ru.read_json(json_file)\n",
    "    sid       = os.path.basename(json_file)[:-5]\n",
    "\n",
    "    session = ra.Session(sid, 'radical.pilot', src='./app_sleep/tasks-{0}/'.format(tasks))\n",
    "    units = session.filter(etype='unit', inplace=False)\n",
    "\n",
    "    p = Profiler(src = './app_sleep/tasks-{0}/'.format(tasks))\n",
    "    \n",
    "    task_uids = get_task_uids(tasks)\n",
    "    \n",
    "    entk_dur = p.duration(task_uids, states=['SCHEDULING', 'DONE'])\n",
    "    rp_dur = units.duration([rp.UMGR_SCHEDULING_PENDING, rp.DONE])\n",
    "    exec_dur = units.duration([rp.AGENT_EXECUTING, rp.AGENT_STAGING_OUTPUT_PENDING])\n",
    "    \n",
    "    # Time taken in appmanager to rreq function call\n",
    "    entk_core_1 = p.duration('radical.entk.appmanager.0000', events=['create amgr obj', 'init rreq submission'])\n",
    "    \n",
    "    # Time taken to tear down appmanager\n",
    "    entk_core_2 = p.duration('radical.entk.appmanager.0000', events=['start termination', 'termination done'])\n",
    "    \n",
    "    # Time taken to create resource manager obj\n",
    "    entk_core_3 = p.duration('radical.entk.resource_manager.0000', events = ['create rmgr obj', 'rmgr obj created'])\n",
    "    \n",
    "    # Time taken to create and submit resource reservation\n",
    "    entk_core_4 = p.duration('radical.entk.resource_manager.0000', events = ['creating rreq', 'rreq submitted'])\n",
    "    \n",
    "    # Time taken to deallocate resource reservation\n",
    "    entk_core_5 = p.duration('radical.entk.resource_manager.0000', events = ['canceling resource allocation', 'resource allocation cancelled'])\n",
    "    \n",
    "    # Queue\n",
    "    queue_time = p.duration('radical.entk.resource_manager.0000', events = ['rreq submitted', 'resource active'])\n",
    "    \n",
    "    entk_core_dur = entk_core_1 + entk_core_2 + entk_core_3 \n",
    "    \n",
    "    entk_only_overhead = entk_dur - rp_dur\n",
    "    rp_only_overhead = rp_dur - exec_dur\n",
    "    total_overhead = entk_only_overhead + rp_only_overhead\n",
    "    \n",
    "    print 'Tasks: ',tasks\n",
    "    print 'EnTK duration: ', entk_dur \n",
    "    print 'EnTK core duration: ', entk_core_dur\n",
    "    print 'RP duration: ', rp_dur\n",
    "    print 'Execution duration: ', exec_dur\n",
    "    print '---------------------------------------'\n",
    "    \n",
    "    df.loc[tasks] = [entk_core_dur, entk_only_overhead, rp_only_overhead]"
   ]
  },
  {
   "cell_type": "code",
   "execution_count": 22,
   "metadata": {},
   "outputs": [
    {
     "data": {
      "image/png": "[encoded data removed]",
      "text/plain": [
       "<matplotlib.figure.Figure at 0x7fc70c299610>"
      ]
     },
     "metadata": {},
     "output_type": "display_data"
    }
   ],
   "source": [
    "ax = df.plot(kind='bar', title='Time taken by EnTK and RP to execute a workflow consisting of \\n 1 Pipeline, 1 Stage per Pipeline and X number of Tasks per Stage on XSEDE.SuperMIC (Task duration = 1 second, number of trials per data point = 1)')\n",
    "ax.set_xlabel('Number of Tasks')\n",
    "ax.set_ylabel('Time (seconds)')\n",
    "\n",
    "\n",
    "fig = plt.gcf()\n",
    "fig.set_size_inches(18.5, 10.5)\n",
    "fig.savefig('initial_graph.pdf', dpi=100)"
   ]
  },
  {
   "cell_type": "code",
   "execution_count": 90,
   "metadata": {},
   "outputs": [
    {
     "name": "stdout",
     "output_type": "stream",
     "text": [
      "130.013799906\n"
     ]
    }
   ],
   "source": [
    "duration_exec = units.duration([rp.AGENT_EXECUTING, rp.AGENT_STAGING_OUTPUT_PENDING])\n",
    "\n",
    "before_exec = units.duration([rp.UMGR_SCHEDULING_PENDING, rp.AGENT_EXECUTING])\n",
    "after_exec = units.duration([rp.AGENT_STAGING_OUTPUT_PENDING, rp.DONE])\n",
    "\n",
    "total = units.duration([rp.UMGR_SCHEDULING_PENDING, rp.DONE])\n",
    "print total"
   ]
  },
  {
   "cell_type": "code",
   "execution_count": 40,
   "metadata": {},
   "outputs": [
    {
     "name": "stdout",
     "output_type": "stream",
     "text": [
      "3.35220003128 5.23059988022 0.546700000763\n",
      "9.12949991226\n"
     ]
    }
   ],
   "source": [
    "print duration_exec, before_exec, after_exec\n",
    "total_from_rp = duration_exec + before_exec + after_exec\n",
    "print total_from_rp"
   ]
  },
  {
   "cell_type": "code",
   "execution_count": null,
   "metadata": {
    "collapsed": true
   },
   "outputs": [],
   "source": []
  }
 ],
 "metadata": {
  "kernelspec": {
   "display_name": "Python 2",
   "language": "python",
   "name": "python2"
  },
  "language_info": {
   "codemirror_mode": {
    "name": "ipython",
    "version": 2
   },
   "file_extension": ".py",
   "mimetype": "text/x-python",
   "name": "python",
   "nbconvert_exporter": "python",
   "pygments_lexer": "ipython2",
   "version": "2.7.12"
  }
 },
 "nbformat": 4,
 "nbformat_minor": 2
}
